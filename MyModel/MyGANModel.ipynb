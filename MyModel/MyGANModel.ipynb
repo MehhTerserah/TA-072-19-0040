{
 "cells": [
  {
   "cell_type": "code",
   "execution_count": 1,
   "id": "69a1ef3d",
   "metadata": {},
   "outputs": [],
   "source": [
    "import os\n",
    "import numpy as np\n",
    "import pandas as pd\n",
    "import tensorflow as tf\n",
    "import matplotlib.pyplot as plt\n",
    "from scipy import signal\n",
    "from tensorflow.keras.preprocessing import image\n",
    "import tensorflow.keras.backend as K\n",
    "from glob import glob\n",
    "import math\n",
    "from sklearn.model_selection import train_test_split\n",
    "from PIL.ImageOps import invert\n",
    "from keras.utils import plot_model\n",
    "from sklearn.metrics import classification_report\n",
    "from tqdm import tqdm\n",
    "from keras.callbacks import ModelCheckpoint\n",
    "\n",
    "np.random.seed(1234)\n",
    "tf.random.set_seed(1234)\n",
    "\n",
    "os.environ[\"CUDA_VISIBLE_DEVICES\"]=\"0\"\n",
    "\n",
    "K.clear_session()\n",
    "\n",
    "from keras.backend import set_session\n",
    "config = tf.compat.v1.ConfigProto()\n",
    "config.gpu_options.per_process_gpu_memory_fraction = 0.5\n",
    "config.gpu_options.allow_growth = True\n",
    "sess = tf.compat.v1.Session(config=config)\n",
    "set_session(sess) # set this TensorFlow session as the default session for Keras"
   ]
  },
  {
   "cell_type": "code",
   "execution_count": null,
   "id": "b6ae950f",
   "metadata": {},
   "outputs": [],
   "source": [
    "data_paths = glob('../train-set/normal/post/*_pvc_*')\n",
    "real_path = glob('/home/will/data/*.png')\n",
    "\n",
    "def load_img(path):\n",
    "    img = image.load_img(path, grayscale=True, target_size=(256,256), interpolation='hamming')\n",
    "    #img = invert(img)\n",
    "    return image.img_to_array(img)\n",
    "\n",
    "concrete_scans = np.array([load_img(path) for path in concrete_paths])\n",
    "metallic_scans = np.array([load_img(path) for path in metallic_paths])\n",
    "plastic_scans = np.array([load_img(path) for path in plastic_paths])\n",
    "\n",
    "concrete_labels = np.zeros((len(concrete_scans),))\n",
    "metallic_labels = np.ones((len(metallic_scans),))\n",
    "plastic_labels = np.ones((len(plastic_scans),)) * 2\n",
    "\n",
    "y = np.concatenate([concrete_labels, metallic_labels, plastic_labels]).astype(np.int32)\n",
    "a_scans = np.concatenate([concrete_scans, metallic_scans, plastic_scans])\n",
    "\n",
    "print(y.shape)\n",
    "print(a_scans.shape)\n",
    "\n",
    "print(concrete_scans.shape)\n",
    "print(metallic_scans.shape)\n",
    "print(plastic_scans.shape)"
   ]
  }
 ],
 "metadata": {
  "kernelspec": {
   "display_name": "Python 3 (ipykernel)",
   "language": "python",
   "name": "python3"
  },
  "language_info": {
   "codemirror_mode": {
    "name": "ipython",
    "version": 3
   },
   "file_extension": ".py",
   "mimetype": "text/x-python",
   "name": "python",
   "nbconvert_exporter": "python",
   "pygments_lexer": "ipython3",
   "version": "3.10.9"
  }
 },
 "nbformat": 4,
 "nbformat_minor": 5
}
